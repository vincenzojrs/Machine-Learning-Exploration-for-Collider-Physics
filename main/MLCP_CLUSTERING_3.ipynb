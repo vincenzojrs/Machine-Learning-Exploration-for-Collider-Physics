{
 "cells": [
  {
   "cell_type": "code",
   "execution_count": 4,
   "outputs": [],
   "source": [
    "from ipynb.fs.defs.MLCP_EDA_1 import data_importing, replace_numbers_with_letters\n",
    "\n",
    "from sklearn.model_selection import RandomizedSearchCV, train_test_split\n",
    "from sklearn.neighbors import KNeighborsClassifier\n",
    "from sklearn.metrics import classification_report\n",
    "import numpy as np"
   ],
   "metadata": {
    "collapsed": false,
    "pycharm": {
     "name": "#%%\n"
    }
   }
  },
  {
   "cell_type": "code",
   "execution_count": 2,
   "metadata": {
    "collapsed": true
   },
   "outputs": [],
   "source": [
    "import pandas as pd\n",
    "%store -r dataset_scaled_2_pca\n",
    "%store -r dataset_scaled_3_pca\n",
    "\n",
    "# Import dataset PCA'd featuring 2 and 3 columns\n",
    "dataset_scaled_2_pca = dataset_scaled_2_pca\n",
    "dataset_scaled_3_pca = dataset_scaled_3_pca"
   ]
  },
  {
   "cell_type": "markdown",
   "source": [
    "# KNN Clustering with original dataset\n",
    "## Naive KNN"
   ],
   "metadata": {
    "collapsed": false
   }
  },
  {
   "cell_type": "code",
   "execution_count": 3,
   "outputs": [
    {
     "name": "stdout",
     "output_type": "stream",
     "text": [
      "Sample dataset:\n",
      "                           0\n",
      "j_zlogz           -3.488422\n",
      "j_c1_b0_mmdt       0.471864\n",
      "j_c1_b1_mmdt       0.058537\n",
      "j_c1_b2_mmdt       0.014659\n",
      "j_c2_b1_mmdt       0.109481\n",
      "j_c2_b2_mmdt       0.025472\n",
      "j_d2_b1_mmdt       1.870292\n",
      "j_d2_b2_mmdt       1.737580\n",
      "j_d2_a1_b1_mmdt    1.870292\n",
      "j_d2_a1_b2_mmdt    0.211365\n",
      "j_m2_b1_mmdt       0.089198\n",
      "j_m2_b2_mmdt       0.032309\n",
      "j_n2_b1_mmdt       0.331585\n",
      "j_n2_b2_mmdt       0.155772\n",
      "j_mass_mmdt      141.861038\n",
      "j_multiplicity    85.000000\n",
      "label              0.000000\n"
     ]
    }
   ],
   "source": [
    "data = data_importing(verbose = False)\n",
    "dataset = pd.concat([data[1], replace_numbers_with_letters(data[-1], mode = 'label')], axis = 1)\n",
    "\n",
    "# Print a row as example\n",
    "print('Sample dataset:\\n', dataset.head(1).T)"
   ],
   "metadata": {
    "collapsed": false,
    "pycharm": {
     "name": "#%%\n"
    }
   }
  },
  {
   "cell_type": "code",
   "execution_count": 4,
   "outputs": [],
   "source": [
    "# Define train/test dataset splitting\n",
    "def train_test(dataset):\n",
    "    X_train, X_test, y_train, y_test = train_test_split(\n",
    "        dataset.iloc[:,:dataset.shape[1]-1],\n",
    "        dataset.iloc[:,-1],\n",
    "        test_size=0.2,\n",
    "        stratify=dataset.iloc[:,-1],\n",
    "        random_state=42)\n",
    "\n",
    "    return X_train, X_test, y_train, y_test\n",
    "\n",
    "# Define the classification report. \"macro avg\" for precision, recall and f1 will be used as a benchmark\n",
    "def classification_reporting(tuning, model, y_test, y_pred, X_train):\n",
    "    report = classification_report(y_test, y_pred, output_dict = True)\n",
    "    print('{} {} performance using {} features:\\n'.format(tuning, model, X_train.shape[1]),\n",
    "          report['macro avg'])"
   ],
   "metadata": {
    "collapsed": false,
    "pycharm": {
     "name": "#%%\n"
    }
   }
  },
  {
   "cell_type": "code",
   "execution_count": 5,
   "outputs": [],
   "source": [
    "# Defining Naive KNN clustering function\n",
    "def knn_clustering(X_train, X_test, y_train, y_test):\n",
    "\n",
    "    model = KNeighborsClassifier()\n",
    "    model.fit(X_train, y_train)\n",
    "    y_pred= model.predict(X_test)\n",
    "\n",
    "    classification_reporting('Naive', 'KNN', y_test, y_pred, X_train)"
   ],
   "metadata": {
    "collapsed": false,
    "pycharm": {
     "name": "#%%\n"
    }
   }
  },
  {
   "cell_type": "code",
   "execution_count": 6,
   "outputs": [],
   "source": [
    "# Split the dataset with 16 feature\n",
    "X_train_full, X_test_full, y_train_full, y_test_full = train_test(dataset)"
   ],
   "metadata": {
    "collapsed": false,
    "pycharm": {
     "name": "#%%\n"
    }
   }
  },
  {
   "cell_type": "code",
   "execution_count": 7,
   "outputs": [
    {
     "name": "stdout",
     "output_type": "stream",
     "text": [
      "Naive KNN performance using 16 features:\n",
      " {'precision': 0.6969268006940664, 'recall': 0.688817863291366, 'f1-score': 0.6909659932950201, 'support': 2000}\n"
     ]
    }
   ],
   "source": [
    "# Evaluate Naive KNN performance\n",
    "knn_clustering(X_train_full, X_test_full, y_train_full, y_test_full)"
   ],
   "metadata": {
    "collapsed": false,
    "pycharm": {
     "name": "#%%\n"
    }
   }
  },
  {
   "cell_type": "markdown",
   "source": [
    "## KNN Hyperparameter Tuning"
   ],
   "metadata": {
    "collapsed": false
   }
  },
  {
   "cell_type": "code",
   "execution_count": 8,
   "outputs": [],
   "source": [
    "# Finding better hyperparameter\n",
    "def knn_hyp_tuning(X_train, X_test, y_train, y_test):\n",
    "\n",
    "    n_neighbors = [int(x) for x in np.linspace(start = 1, stop = 100, num = 50)]\n",
    "    weights = ['uniform','distance']\n",
    "    metric = ['euclidean','manhattan','chebyshev', 'minkowski']\n",
    "\n",
    "    # The random_grid will contain all the possible combination of parameters listed above\n",
    "    random_grid = {\n",
    "        'n_neighbors': n_neighbors,\n",
    "        'weights': weights,\n",
    "        'metric': metric}\n",
    "\n",
    "    # RandomizedSearchCV will cross-validate the model using different random combinations of hyperparameters\n",
    "    knn = KNeighborsClassifier()\n",
    "    knn_random = RandomizedSearchCV(estimator = knn,\n",
    "                                    random_state = 42,\n",
    "                                    n_jobs = -1,\n",
    "                                    param_distributions = random_grid,\n",
    "                                    n_iter = 100,\n",
    "                                    cv=5,\n",
    "                                    verbose = 0)\n",
    "\n",
    "    knn_random.fit(X_train, y_train)\n",
    "    knn_random.best_params_\n",
    "    y_pred = knn_random.predict(X_test)\n",
    "\n",
    "    # Print the performances\n",
    "    classification_reporting('Tuned', 'KNN', y_test, y_pred, X_train)"
   ],
   "metadata": {
    "collapsed": false,
    "pycharm": {
     "name": "#%%\n"
    }
   }
  },
  {
   "cell_type": "code",
   "execution_count": 9,
   "outputs": [
    {
     "name": "stdout",
     "output_type": "stream",
     "text": [
      "Tuned KNN performance using 16 features:\n",
      " {'precision': 0.7221803123366086, 'recall': 0.7114613379414695, 'f1-score': 0.7139247216652634, 'support': 2000}\n"
     ]
    }
   ],
   "source": [
    "knn_hyp_tuning(X_train_full, X_test_full, y_train_full, y_test_full)"
   ],
   "metadata": {
    "collapsed": false,
    "pycharm": {
     "name": "#%%\n"
    }
   }
  },
  {
   "cell_type": "markdown",
   "source": [
    "# KNN Clustering with PCA\n",
    "## Naive KNN"
   ],
   "metadata": {
    "collapsed": false
   }
  },
  {
   "cell_type": "code",
   "execution_count": 10,
   "outputs": [],
   "source": [
    "X_train2, X_test2, y_train2, y_test2 = train_test(dataset_scaled_2_pca)\n",
    "X_train3, X_test3, y_train3, y_test3 = train_test(dataset_scaled_3_pca)"
   ],
   "metadata": {
    "collapsed": false,
    "pycharm": {
     "name": "#%%\n"
    }
   }
  },
  {
   "cell_type": "code",
   "execution_count": 11,
   "outputs": [
    {
     "name": "stdout",
     "output_type": "stream",
     "text": [
      "Naive KNN performance using 2 features:\n",
      " {'precision': 0.5364493519603178, 'recall': 0.53176913577543, 'f1-score': 0.5314632132591448, 'support': 2000}\n",
      "Naive KNN performance using 3 features:\n",
      " {'precision': 0.5986700067182135, 'recall': 0.5927594711317699, 'f1-score': 0.5944997294049733, 'support': 2000}\n"
     ]
    }
   ],
   "source": [
    "knn_clustering(X_train2, X_test2, y_train2, y_test2)\n",
    "knn_clustering(X_train3, X_test3, y_train3, y_test3)"
   ],
   "metadata": {
    "collapsed": false,
    "pycharm": {
     "name": "#%%\n"
    }
   }
  },
  {
   "cell_type": "markdown",
   "source": [
    "## KNN Hyperparameter Tuning"
   ],
   "metadata": {
    "collapsed": false
   }
  },
  {
   "cell_type": "code",
   "execution_count": 12,
   "outputs": [
    {
     "name": "stdout",
     "output_type": "stream",
     "text": [
      "Tuned KNN performance using 2 features:\n",
      " {'precision': 0.5934402742884913, 'recall': 0.591770534323274, 'f1-score': 0.5914655926539869, 'support': 2000}\n",
      "Tuned KNN performance using 3 features:\n",
      " {'precision': 0.6282273869371974, 'recall': 0.6266104955441463, 'f1-score': 0.6262741481813052, 'support': 2000}\n"
     ]
    }
   ],
   "source": [
    "knn_hyp_tuning(X_train2, X_test2, y_train2, y_test2)\n",
    "knn_hyp_tuning(X_train3, X_test3, y_train3, y_test3)"
   ],
   "metadata": {
    "collapsed": false,
    "pycharm": {
     "name": "#%%\n"
    }
   }
  },
  {
   "cell_type": "markdown",
   "source": [
    "# Hierarchical Clustering"
   ],
   "metadata": {
    "collapsed": false,
    "pycharm": {
     "name": "#%% md\n"
    }
   }
  }
 ],
 "metadata": {
  "kernelspec": {
   "display_name": "Python 3",
   "language": "python",
   "name": "python3"
  },
  "language_info": {
   "codemirror_mode": {
    "name": "ipython",
    "version": 2
   },
   "file_extension": ".py",
   "mimetype": "text/x-python",
   "name": "python",
   "nbconvert_exporter": "python",
   "pygments_lexer": "ipython2",
   "version": "2.7.6"
  }
 },
 "nbformat": 4,
 "nbformat_minor": 0
}