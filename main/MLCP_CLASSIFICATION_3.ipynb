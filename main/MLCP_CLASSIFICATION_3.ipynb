{
 "cells": [
  {
   "cell_type": "code",
   "execution_count": 1,
   "outputs": [],
   "source": [
    "#!pip install git+https://github.com/hyperopt/hyperopt-sklearn\n",
    "\n",
    "from hpsklearn import HyperoptEstimator, any_classifier, svc\n",
    "from hyperopt import tpe\n",
    "\n",
    "from ipynb.fs.defs.functions import data_importing, replace_numbers_with_letters, train_test, classification_reporting\n",
    "\n",
    "from sklearn.model_selection import RandomizedSearchCV\n",
    "from sklearn.metrics import classification_report, accuracy_score\n",
    "from sklearn.neighbors import KNeighborsClassifier\n",
    "from sklearn.svm import SVC\n",
    "\n",
    "import pandas as pd\n",
    "import numpy as np"
   ],
   "metadata": {
    "collapsed": false,
    "pycharm": {
     "name": "#%%\n"
    }
   }
  },
  {
   "cell_type": "code",
   "execution_count": 2,
   "metadata": {
    "collapsed": true
   },
   "outputs": [],
   "source": [
    "%store -r dataset_scaled_2_pca\n",
    "%store -r dataset_scaled_3_pca\n",
    "\n",
    "# Import dataset PCA'd featuring 2 and 3 columns\n",
    "dataset_scaled_2_pca = dataset_scaled_2_pca\n",
    "dataset_scaled_3_pca = dataset_scaled_3_pca"
   ]
  },
  {
   "cell_type": "markdown",
   "source": [
    "# KNN Classification with original dataset\n",
    "## Naive KNN"
   ],
   "metadata": {
    "collapsed": false
   }
  },
  {
   "cell_type": "code",
   "execution_count": 3,
   "outputs": [
    {
     "name": "stdout",
     "output_type": "stream",
     "text": [
      "Sample dataset:\n",
      "                           0\n",
      "j_zlogz           -3.488422\n",
      "j_c1_b0_mmdt       0.471864\n",
      "j_c1_b1_mmdt       0.058537\n",
      "j_c1_b2_mmdt       0.014659\n",
      "j_c2_b1_mmdt       0.109481\n",
      "j_c2_b2_mmdt       0.025472\n",
      "j_d2_b1_mmdt       1.870292\n",
      "j_d2_b2_mmdt       1.737580\n",
      "j_d2_a1_b1_mmdt    1.870292\n",
      "j_d2_a1_b2_mmdt    0.211365\n",
      "j_m2_b1_mmdt       0.089198\n",
      "j_m2_b2_mmdt       0.032309\n",
      "j_n2_b1_mmdt       0.331585\n",
      "j_n2_b2_mmdt       0.155772\n",
      "j_mass_mmdt      141.861038\n",
      "j_multiplicity    85.000000\n",
      "label              0.000000\n"
     ]
    }
   ],
   "source": [
    "data = data_importing(verbose = False)\n",
    "dataset = pd.concat([data[1], replace_numbers_with_letters(data[-1], mode = 'label')], axis = 1)\n",
    "\n",
    "# Print a row as example\n",
    "print('Sample dataset:\\n', dataset.head(1).T)"
   ],
   "metadata": {
    "collapsed": false,
    "pycharm": {
     "name": "#%%\n"
    }
   }
  },
  {
   "cell_type": "code",
   "execution_count": 4,
   "outputs": [],
   "source": [
    "# Defining Naive KNN classification function\n",
    "def knn_classification(X_train, X_test, y_train, y_test):\n",
    "\n",
    "    model = KNeighborsClassifier()\n",
    "    model.fit(X_train, y_train)\n",
    "    y_pred= model.predict(X_test)\n",
    "\n",
    "    classification_reporting('Naive', 'KNN', y_test, y_pred, X_train)"
   ],
   "metadata": {
    "collapsed": false,
    "pycharm": {
     "name": "#%%\n"
    }
   }
  },
  {
   "cell_type": "code",
   "execution_count": 5,
   "outputs": [],
   "source": [
    "# Split the dataset with 16 feature\n",
    "X_train_full, X_test_full, y_train_full, y_test_full = train_test(dataset, scaling = True)"
   ],
   "metadata": {
    "collapsed": false,
    "pycharm": {
     "name": "#%%\n"
    }
   }
  },
  {
   "cell_type": "code",
   "execution_count": 6,
   "outputs": [
    {
     "name": "stdout",
     "output_type": "stream",
     "text": [
      "Naive KNN performance using 16 features:\n",
      " {'precision': 0.7002880677152326, 'recall': 0.6930851052345895, 'f1-score': 0.6948513026716446, 'support': 2000}\n",
      "Accuracy score: 0.6935\n"
     ]
    }
   ],
   "source": [
    "# Evaluate Naive KNN performance\n",
    "knn_classification(X_train_full, X_test_full, y_train_full, y_test_full)"
   ],
   "metadata": {
    "collapsed": false,
    "pycharm": {
     "name": "#%%\n"
    }
   }
  },
  {
   "cell_type": "markdown",
   "source": [
    "## KNN Hyperparameter Tuning"
   ],
   "metadata": {
    "collapsed": false
   }
  },
  {
   "cell_type": "code",
   "execution_count": 7,
   "outputs": [],
   "source": [
    "# Finding better hyperparameter\n",
    "def knn_hyp_tuning(X_train, X_test, y_train, y_test):\n",
    "\n",
    "    n_neighbors = [int(x) for x in np.linspace(start = 1, stop = 100, num = 50)]\n",
    "    weights = ['uniform','distance']\n",
    "    metric = ['euclidean','manhattan','chebyshev', 'minkowski']\n",
    "\n",
    "    # The random_grid will contain all the possible combination of parameters listed above\n",
    "    random_grid = {\n",
    "        'n_neighbors': n_neighbors,\n",
    "        'weights': weights,\n",
    "        'metric': metric}\n",
    "\n",
    "    # RandomizedSearchCV will cross-validate the model using different random combinations of hyperparameters\n",
    "    knn = KNeighborsClassifier()\n",
    "    knn_random = RandomizedSearchCV(estimator = knn,\n",
    "                                    random_state = 42,\n",
    "                                    n_jobs = -1,\n",
    "                                    param_distributions = random_grid,\n",
    "                                    n_iter = 100,\n",
    "                                    cv=5,\n",
    "                                    verbose = 0)\n",
    "\n",
    "    knn_random.fit(X_train, y_train)\n",
    "    knn_random.best_params_\n",
    "    y_pred = knn_random.predict(X_test)\n",
    "\n",
    "    # Print the performances\n",
    "    classification_reporting('Tuned', 'KNN', y_test, y_pred, X_train)"
   ],
   "metadata": {
    "collapsed": false,
    "pycharm": {
     "name": "#%%\n"
    }
   }
  },
  {
   "cell_type": "code",
   "execution_count": 8,
   "outputs": [
    {
     "name": "stdout",
     "output_type": "stream",
     "text": [
      "Tuned KNN performance using 16 features:\n",
      " {'precision': 0.7216023554926478, 'recall': 0.7147253123286589, 'f1-score': 0.7159633710309441, 'support': 2000}\n",
      "Accuracy score: 0.715\n"
     ]
    }
   ],
   "source": [
    "knn_hyp_tuning(X_train_full, X_test_full, y_train_full, y_test_full)"
   ],
   "metadata": {
    "collapsed": false,
    "pycharm": {
     "name": "#%%\n"
    }
   }
  },
  {
   "cell_type": "markdown",
   "source": [
    "# KNN with PCA\n",
    "## Naive KNN"
   ],
   "metadata": {
    "collapsed": false
   }
  },
  {
   "cell_type": "code",
   "execution_count": 9,
   "outputs": [],
   "source": [
    "X_train2, X_test2, y_train2, y_test2 = train_test(dataset_scaled_2_pca)\n",
    "X_train3, X_test3, y_train3, y_test3 = train_test(dataset_scaled_3_pca)"
   ],
   "metadata": {
    "collapsed": false,
    "pycharm": {
     "name": "#%%\n"
    }
   }
  },
  {
   "cell_type": "code",
   "execution_count": 10,
   "outputs": [
    {
     "name": "stdout",
     "output_type": "stream",
     "text": [
      "Naive KNN performance using 2 features:\n",
      " {'precision': 0.5364493519603178, 'recall': 0.53176913577543, 'f1-score': 0.5314632132591448, 'support': 2000}\n",
      "Accuracy score: 0.5325\n",
      "Naive KNN performance using 3 features:\n",
      " {'precision': 0.5986700067182135, 'recall': 0.5927594711317699, 'f1-score': 0.5944997294049733, 'support': 2000}\n",
      "Accuracy score: 0.5935\n"
     ]
    }
   ],
   "source": [
    "knn_classification(X_train2, X_test2, y_train2, y_test2)\n",
    "knn_classification(X_train3, X_test3, y_train3, y_test3)"
   ],
   "metadata": {
    "collapsed": false,
    "pycharm": {
     "name": "#%%\n"
    }
   }
  },
  {
   "cell_type": "markdown",
   "source": [
    "## KNN Hyperparameter Tuning"
   ],
   "metadata": {
    "collapsed": false
   }
  },
  {
   "cell_type": "code",
   "execution_count": 11,
   "outputs": [
    {
     "name": "stdout",
     "output_type": "stream",
     "text": [
      "Tuned KNN performance using 2 features:\n",
      " {'precision': 0.5934402742884913, 'recall': 0.591770534323274, 'f1-score': 0.5914655926539869, 'support': 2000}\n",
      "Accuracy score: 0.5925\n",
      "Tuned KNN performance using 3 features:\n",
      " {'precision': 0.6282273869371974, 'recall': 0.6266104955441463, 'f1-score': 0.6262741481813052, 'support': 2000}\n",
      "Accuracy score: 0.6275\n"
     ]
    }
   ],
   "source": [
    "knn_hyp_tuning(X_train2, X_test2, y_train2, y_test2)\n",
    "knn_hyp_tuning(X_train3, X_test3, y_train3, y_test3)"
   ],
   "metadata": {
    "collapsed": false,
    "pycharm": {
     "name": "#%%\n"
    }
   }
  },
  {
   "cell_type": "markdown",
   "source": [
    "# Support Vector Classification SVC\n",
    "## Naive SVC"
   ],
   "metadata": {
    "collapsed": false,
    "pycharm": {
     "name": "#%% md\n"
    }
   }
  },
  {
   "cell_type": "code",
   "execution_count": 16,
   "outputs": [
    {
     "name": "stdout",
     "output_type": "stream",
     "text": [
      "Naive SVC performance using 16 features:\n",
      " {'precision': 0.7284261234655312, 'recall': 0.7194220211924094, 'f1-score': 0.7213806303164567, 'support': 2000}\n",
      "Accuracy score: 0.7195\n"
     ]
    }
   ],
   "source": [
    "# Defining Naive SVC function\n",
    "def svc_classification(X_train, X_test, y_train, y_test):\n",
    "\n",
    "    model = SVC()\n",
    "    model.fit(X_train, y_train)\n",
    "    y_pred = model.predict(X_test)\n",
    "\n",
    "    classification_reporting('Naive', 'SVC', y_test, y_pred, X_train)\n",
    "\n",
    "svc_classification(X_train_full, X_test_full, y_train_full, y_test_full)"
   ],
   "metadata": {
    "collapsed": false,
    "pycharm": {
     "name": "#%%\n"
    }
   }
  },
  {
   "cell_type": "markdown",
   "source": [
    "## SVC Hyperparameter tuning"
   ],
   "metadata": {
    "collapsed": false
   }
  },
  {
   "cell_type": "code",
   "execution_count": 20,
   "outputs": [],
   "source": [
    "# Finding better hyperparameter\n",
    "def svc_hyp_tuning(X_train, X_test, y_train, y_test):\n",
    "\n",
    "    # RandomizedSearchCV was so slow! So I used optimization algorithm to find better hyperparameters\n",
    "    model = HyperoptEstimator(classifier=svc('mySVC'), max_evals=50)\n",
    "    model.fit(X_train, y_train)\n",
    "    y_pred = model.predict(X_test)\n",
    "\n",
    "    print(model.best_model())\n",
    "\n",
    "    # Print the performances\n",
    "    classification_reporting('Tuned', 'SVC', y_test, y_pred, X_train)"
   ],
   "metadata": {
    "collapsed": false,
    "pycharm": {
     "name": "#%%\n"
    }
   }
  },
  {
   "cell_type": "code",
   "execution_count": 21,
   "outputs": [
    {
     "name": "stdout",
     "output_type": "stream",
     "text": [
      "100%|██████████| 1/1 [00:02<00:00,  2.07s/trial, best loss: 0.35187500000000005]\n",
      "100%|██████████| 2/2 [00:01<00:00,  1.88s/trial, best loss: 0.35187500000000005]\n",
      "100%|██████████| 3/3 [00:00<00:00,  1.17trial/s, best loss: 0.35187500000000005]\n",
      "100%|██████████| 4/4 [00:00<00:00,  1.00trial/s, best loss: 0.35187500000000005]\n",
      "100%|██████████| 5/5 [00:03<00:00,  3.43s/trial, best loss: 0.35187500000000005]\n",
      "100%|██████████| 6/6 [00:00<00:00,  1.19trial/s, best loss: 0.35]\n",
      "100%|██████████| 7/7 [00:02<00:00,  2.37s/trial, best loss: 0.35]\n",
      "100%|██████████| 8/8 [00:01<00:00,  1.10s/trial, best loss: 0.35]\n",
      "100%|██████████| 9/9 [00:01<00:00,  1.91s/trial, best loss: 0.30374999999999996]\n",
      "100%|██████████| 10/10 [00:01<00:00,  1.45s/trial, best loss: 0.30374999999999996]\n",
      "100%|██████████| 11/11 [00:00<00:00,  1.00trial/s, best loss: 0.30374999999999996]\n",
      "100%|██████████| 12/12 [00:01<00:00,  1.49s/trial, best loss: 0.30374999999999996]\n",
      "100%|██████████| 13/13 [00:01<00:00,  1.30s/trial, best loss: 0.30374999999999996]\n",
      "100%|██████████| 14/14 [00:01<00:00,  1.51s/trial, best loss: 0.30374999999999996]\n",
      "100%|██████████| 15/15 [00:03<00:00,  3.45s/trial, best loss: 0.30374999999999996]\n",
      "100%|██████████| 16/16 [00:00<00:00,  1.03trial/s, best loss: 0.28437500000000004]\n",
      "100%|██████████| 17/17 [00:01<00:00,  1.41s/trial, best loss: 0.281875]\n",
      "100%|██████████| 18/18 [00:01<00:00,  1.93s/trial, best loss: 0.281875]\n",
      "100%|██████████| 19/19 [00:03<00:00,  3.01s/trial, best loss: 0.281875]\n",
      "100%|██████████| 20/20 [00:00<00:00,  1.00trial/s, best loss: 0.281875]\n",
      "100%|██████████| 21/21 [00:01<00:00,  1.69s/trial, best loss: 0.281875]\n",
      "100%|██████████| 22/22 [00:00<00:00,  1.16trial/s, best loss: 0.281875]\n",
      "100%|██████████| 23/23 [00:01<00:00,  1.05s/trial, best loss: 0.281875]\n",
      "100%|██████████| 24/24 [00:01<00:00,  1.84s/trial, best loss: 0.281875]\n",
      "100%|██████████| 25/25 [00:01<00:00,  1.92s/trial, best loss: 0.276875]\n",
      "100%|██████████| 26/26 [00:01<00:00,  1.99s/trial, best loss: 0.276875]\n",
      "100%|██████████| 27/27 [00:02<00:00,  2.10s/trial, best loss: 0.276875]\n",
      "100%|██████████| 28/28 [00:01<00:00,  1.67s/trial, best loss: 0.276875]\n",
      "100%|██████████| 29/29 [00:01<00:00,  1.85s/trial, best loss: 0.276875]\n",
      "100%|██████████| 30/30 [00:01<00:00,  1.34s/trial, best loss: 0.276875]\n",
      "100%|██████████| 31/31 [00:03<00:00,  3.68s/trial, best loss: 0.276875]\n",
      "100%|██████████| 32/32 [00:04<00:00,  4.26s/trial, best loss: 0.260625]\n",
      "100%|██████████| 33/33 [00:03<00:00,  3.29s/trial, best loss: 0.260625]\n",
      "100%|██████████| 34/34 [00:01<00:00,  1.84s/trial, best loss: 0.260625]\n",
      "100%|██████████| 35/35 [00:01<00:00,  1.91s/trial, best loss: 0.260625]\n",
      "100%|██████████| 36/36 [00:00<00:00,  1.16trial/s, best loss: 0.260625]\n",
      "100%|██████████| 37/37 [00:02<00:00,  2.38s/trial, best loss: 0.260625]\n",
      "100%|██████████| 38/38 [00:01<00:00,  1.52s/trial, best loss: 0.260625]\n",
      "100%|██████████| 39/39 [00:02<00:00,  2.25s/trial, best loss: 0.260625]\n",
      "100%|██████████| 40/40 [00:01<00:00,  1.14s/trial, best loss: 0.260625]\n",
      "100%|██████████| 41/41 [00:01<00:00,  1.17s/trial, best loss: 0.260625]\n",
      "100%|██████████| 42/42 [00:02<00:00,  2.30s/trial, best loss: 0.260625]\n",
      "100%|██████████| 43/43 [00:02<00:00,  2.23s/trial, best loss: 0.260625]\n",
      "100%|██████████| 44/44 [00:02<00:00,  2.57s/trial, best loss: 0.260625]\n",
      "100%|██████████| 45/45 [00:02<00:00,  2.17s/trial, best loss: 0.260625]\n",
      "100%|██████████| 46/46 [00:02<00:00,  2.08s/trial, best loss: 0.260625]\n",
      "100%|██████████| 47/47 [00:00<00:00,  1.09trial/s, best loss: 0.260625]\n",
      "100%|██████████| 48/48 [00:01<00:00,  1.91s/trial, best loss: 0.260625]\n",
      "100%|██████████| 49/49 [00:01<00:00,  1.74s/trial, best loss: 0.260625]\n",
      "100%|██████████| 50/50 [00:01<00:00,  1.17s/trial, best loss: 0.260625]\n"
     ]
    },
    {
     "name": "stderr",
     "output_type": "stream",
     "text": [
      "/Users/Vincenzo/PycharmProjects/scratches/venv/lib/python3.7/site-packages/sklearn/base.py:451: UserWarning: X does not have valid feature names, but Normalizer was fitted with feature names\n",
      "  \"X does not have valid feature names, but\"\n"
     ]
    },
    {
     "name": "stdout",
     "output_type": "stream",
     "text": [
      "{'learner': SVC(C=0.8590922561372307, coef0=0.45656864791382556, degree=5, kernel='poly',\n",
      "    random_state=2, shrinking=False, tol=0.003368807392590179), 'preprocs': (Normalizer(norm='l1'),), 'ex_preprocs': ()}\n",
      "Tuned SVC performance using 16 features:\n",
      " {'precision': 0.7524338514603489, 'recall': 0.7426881196085372, 'f1-score': 0.7449769831172937, 'support': 2000}\n",
      "Accuracy score: 0.743\n"
     ]
    }
   ],
   "source": [
    "svc_hyp_tuning(X_train_full, X_test_full, y_train_full, y_test_full)"
   ],
   "metadata": {
    "collapsed": false,
    "pycharm": {
     "name": "#%%\n"
    }
   }
  },
  {
   "cell_type": "markdown",
   "source": [
    "# Neural Network (in another notebook)"
   ],
   "metadata": {
    "collapsed": false,
    "pycharm": {
     "name": "#%% md\n"
    }
   }
  }
 ],
 "metadata": {
  "kernelspec": {
   "display_name": "Python 3",
   "language": "python",
   "name": "python3"
  },
  "language_info": {
   "codemirror_mode": {
    "name": "ipython",
    "version": 2
   },
   "file_extension": ".py",
   "mimetype": "text/x-python",
   "name": "python",
   "nbconvert_exporter": "python",
   "pygments_lexer": "ipython2",
   "version": "2.7.6"
  }
 },
 "nbformat": 4,
 "nbformat_minor": 0
}