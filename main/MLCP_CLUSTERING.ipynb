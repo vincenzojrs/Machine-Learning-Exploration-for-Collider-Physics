{
 "cells": [
  {
   "cell_type": "code",
   "execution_count": 1,
   "outputs": [],
   "source": [
    "from sklearn.model_selection import train_test_split\n",
    "from sklearn.neighbors import KNeighborsClassifier\n",
    "from sklearn.metrics import classification_report\n",
    "from sklearn.model_selection import RandomizedSearchCV\n",
    "import numpy as np"
   ],
   "metadata": {
    "collapsed": false,
    "pycharm": {
     "name": "#%%\n"
    }
   }
  },
  {
   "cell_type": "code",
   "execution_count": 2,
   "metadata": {
    "collapsed": true
   },
   "outputs": [],
   "source": [
    "import pandas as pd\n",
    "%store -r dataset_scaled_2_pca\n",
    "%store -r dataset_scaled_3_pca\n",
    "\n",
    "dataset_scaled_2_pca = dataset_scaled_2_pca\n",
    "dataset_scaled_3_pca = dataset_scaled_3_pca"
   ]
  },
  {
   "cell_type": "markdown",
   "source": [
    "# KNN Clustering with PCA\n",
    "## Naive KNN for reference below"
   ],
   "metadata": {
    "collapsed": false
   }
  },
  {
   "cell_type": "code",
   "execution_count": 9,
   "outputs": [],
   "source": [
    "def train_test(dataset):\n",
    "    X_train, X_test, y_train, y_test = train_test_split(\n",
    "        dataset.iloc[:,:dataset.shape[1]-1],\n",
    "        dataset.iloc[:,-1],\n",
    "        test_size=0.2,\n",
    "        stratify=dataset.iloc[:,-1],\n",
    "        random_state=42)\n",
    "\n",
    "    return X_train, X_test, y_train, y_test\n",
    "\n",
    "def classification_reporting(tuning, model, y_test, y_pred, X_train):\n",
    "    report = classification_report(y_test, y_pred, output_dict = True)\n",
    "    print('{} {} performance using {} features:\\n'.format(tuning, model, X_train.shape[1]),\n",
    "          report['macro avg'])"
   ],
   "metadata": {
    "collapsed": false,
    "pycharm": {
     "name": "#%%\n"
    }
   }
  },
  {
   "cell_type": "code",
   "execution_count": 10,
   "outputs": [],
   "source": [
    "def knn_clustering(dataset):\n",
    "    X_train, X_test, y_train, y_test = train_test(dataset)\n",
    "\n",
    "    model = KNeighborsClassifier()\n",
    "    model.fit(X_train, y_train)\n",
    "    y_pred= model.predict(X_test)\n",
    "\n",
    "    classification_reporting('Naive', 'KNN', y_test, y_pred, X_train)"
   ],
   "metadata": {
    "collapsed": false,
    "pycharm": {
     "name": "#%%\n"
    }
   }
  },
  {
   "cell_type": "code",
   "execution_count": 11,
   "outputs": [
    {
     "name": "stdout",
     "output_type": "stream",
     "text": [
      "Naive KNN performance using 2 features:\n",
      " {'precision': 0.5364493519603178, 'recall': 0.53176913577543, 'f1-score': 0.5314632132591448, 'support': 2000}\n",
      "Naive KNN performance using 3 features:\n",
      " {'precision': 0.5986700067182135, 'recall': 0.5927594711317699, 'f1-score': 0.5944997294049733, 'support': 2000}\n"
     ]
    }
   ],
   "source": [
    "knn_clustering(dataset_scaled_2_pca)\n",
    "knn_clustering(dataset_scaled_3_pca)"
   ],
   "metadata": {
    "collapsed": false,
    "pycharm": {
     "name": "#%%\n"
    }
   }
  },
  {
   "cell_type": "markdown",
   "source": [
    "## Hyperparameter Tuning"
   ],
   "metadata": {
    "collapsed": false
   }
  },
  {
   "cell_type": "code",
   "execution_count": 15,
   "outputs": [],
   "source": [
    "X_train2, X_test2, y_train2, y_test2 = train_test(dataset_scaled_2_pca)\n",
    "X_train3, X_test3, y_train3, y_test3 = train_test(dataset_scaled_3_pca)"
   ],
   "metadata": {
    "collapsed": false,
    "pycharm": {
     "name": "#%%\n"
    }
   }
  },
  {
   "cell_type": "code",
   "execution_count": 24,
   "outputs": [],
   "source": [
    "def knn_hyp_tuning(X_train, X_test, y_train, y_test):\n",
    "\n",
    "    n_neighbors = [int(x) for x in np.linspace(start = 1, stop = 100, num = 50)]\n",
    "    weights = ['uniform','distance']\n",
    "    metric = ['euclidean','manhattan','chebyshev', 'minkowski']\n",
    "\n",
    "    random_grid = {\n",
    "        'n_neighbors': n_neighbors,\n",
    "        'weights': weights,\n",
    "        'metric': metric}\n",
    "\n",
    "    knn = KNeighborsClassifier()\n",
    "    knn_random = RandomizedSearchCV(estimator = knn,\n",
    "                                    random_state = 42,\n",
    "                                    n_jobs = -1,\n",
    "                                    param_distributions = random_grid,\n",
    "                                    n_iter = 100,\n",
    "                                    cv=5,\n",
    "                                    verbose = 0)\n",
    "\n",
    "    knn_random.fit(X_train, y_train)\n",
    "    knn_random.best_params_\n",
    "    y_pred = knn_random.predict(X_test)\n",
    "\n",
    "    classification_reporting('Tuned', 'KNN', y_test, y_pred, X_train)"
   ],
   "metadata": {
    "collapsed": false,
    "pycharm": {
     "name": "#%%\n"
    }
   }
  },
  {
   "cell_type": "code",
   "execution_count": 27,
   "outputs": [
    {
     "name": "stdout",
     "output_type": "stream",
     "text": [
      "Tuned KNN performance using 2 features:\n",
      " {'precision': 0.5934402742884913, 'recall': 0.591770534323274, 'f1-score': 0.5914655926539869, 'support': 2000}\n",
      "Tuned KNN performance using 3 features:\n",
      " {'precision': 0.6282273869371974, 'recall': 0.6266104955441463, 'f1-score': 0.6262741481813052, 'support': 2000}\n"
     ]
    }
   ],
   "source": [
    "knn_hyp_tuning(X_train2, X_test2, y_train2, y_test2)\n",
    "knn_hyp_tuning(X_train3, X_test3, y_train3, y_test3)"
   ],
   "metadata": {
    "collapsed": false,
    "pycharm": {
     "name": "#%%\n"
    }
   }
  },
  {
   "cell_type": "markdown",
   "source": [
    "# Hierarchical Clustering"
   ],
   "metadata": {
    "collapsed": false,
    "pycharm": {
     "name": "#%% md\n"
    }
   }
  }
 ],
 "metadata": {
  "kernelspec": {
   "display_name": "Python 3",
   "language": "python",
   "name": "python3"
  },
  "language_info": {
   "codemirror_mode": {
    "name": "ipython",
    "version": 2
   },
   "file_extension": ".py",
   "mimetype": "text/x-python",
   "name": "python",
   "nbconvert_exporter": "python",
   "pygments_lexer": "ipython2",
   "version": "2.7.6"
  }
 },
 "nbformat": 4,
 "nbformat_minor": 0
}