{
  "nbformat": 4,
  "nbformat_minor": 0,
  "metadata": {
    "colab": {
      "provenance": []
    },
    "kernelspec": {
      "name": "python3",
      "display_name": "Python 3"
    },
    "language_info": {
      "name": "python"
    }
  },
  "cells": [
    {
      "cell_type": "markdown",
      "source": [
        "# Had to develop this blocks in another environment.\n",
        "Please, uncomment the first import in the next block and delete the second block"
      ],
      "metadata": {
        "id": "XX6Rj9Fbca1n"
      }
    },
    {
      "cell_type": "code",
      "execution_count": 21,
      "metadata": {
        "id": "mk0BAsYLa0MA"
      },
      "outputs": [],
      "source": [
        "#from ipynb.fs.defs.functions import train_test, classification_reporting\n",
        "\n",
        "from sklearn.preprocessing import OneHotEncoder\n",
        "from keras.utils import to_categorical\n",
        "\n",
        "from keras.wrappers.scikit_learn import KerasClassifier\n",
        "from sklearn.model_selection import KFold\n",
        "\n",
        "from keras.models import Sequential\n",
        "from keras.layers import Dense, Dropout\n",
        "import tensorflow as tf\n",
        "\n",
        "import pandas as pd\n",
        "import numpy as np"
      ]
    },
    {
      "cell_type": "code",
      "source": [
        "# Delete this, if needed\n",
        "\n",
        "from sklearn.metrics import classification_report, accuracy_score\n",
        "from sklearn.model_selection import train_test_split\n",
        "from sklearn.preprocessing import normalize\n",
        "\n",
        "\n",
        "# Define train/test dataset splitting, scaling implemented\n",
        "def train_test(dataset, scaling = False):\n",
        "    X = dataset.iloc[:,:dataset.shape[1]-1]\n",
        "    y = dataset.iloc[:,-1]\n",
        "\n",
        "    if scaling == True:\n",
        "        X_columns = X.columns.to_list()\n",
        "        X = pd.DataFrame(normalize(X, axis=0), columns=X_columns)\n",
        "\n",
        "    X_train, X_test, y_train, y_test = train_test_split(X, y,\n",
        "        test_size=0.2,\n",
        "        stratify=dataset.iloc[:,-1],\n",
        "        random_state=42)\n",
        "\n",
        "    return X_train, X_test, y_train, y_test\n",
        "\n",
        "# Define the classification report. \"macro avg\" for precision, recall and f1 will be used as a benchmark\n",
        "def classification_reporting(tuning, model, y_test, y_pred, X_train):\n",
        "    report = classification_report(y_test, y_pred, output_dict = True)\n",
        "    print('{} {} performance using {} features:\\n'.format(tuning, model, X_train.shape[1]),\n",
        "          report['macro avg'])\n",
        "    print('Accuracy score:', accuracy_score(y_test, y_pred))"
      ],
      "metadata": {
        "id": "GtJk8H3ccAIw"
      },
      "execution_count": 22,
      "outputs": []
    },
    {
      "cell_type": "code",
      "source": [
        "# Split the dataset with 16 feature\n",
        "dataset = pd.read_csv('/content/drive/MyDrive/dataset.csv').iloc[:,1:]\n",
        "X_train_full, X_test_full, y_train_full, y_test_full = train_test(dataset, scaling = True)\n",
        "\n",
        "y_train_full = pd.get_dummies(y_train_full)\n",
        "y_test_full = pd.get_dummies(y_test_full)"
      ],
      "metadata": {
        "id": "Z4_coKcBffza"
      },
      "execution_count": 23,
      "outputs": []
    },
    {
      "cell_type": "code",
      "source": [
        "# Define the model\n",
        "def model():\n",
        "  model = Sequential()\n",
        "\n",
        "  # Dense layer, with 32 neurons, ReLu as benchmark\n",
        "  model.add(Dense(32, input_dim=16, activation='relu'))\n",
        "\n",
        "  # Turn off the 20% of neurons to avoid overfitting\n",
        "  model.add(Dropout(0.2))\n",
        "  model.add(Dense(128, activation='relu'))\n",
        "  model.add(Dropout(0.2))\n",
        "  model.add(Dense(64, activation='relu'))\n",
        "  model.add(Dropout(0.2))\n",
        "\n",
        "  # Final dense layer with 5 neurons, one for each label, softmax will output the probabilities of an item to belong to each class\n",
        "  model.add(Dense(5, activation='softmax'))\n",
        "\n",
        "  # Compile the model\n",
        "  model.compile(loss='categorical_crossentropy', optimizer='adam', metrics=['accuracy'])\n",
        "\n",
        "  return model\n",
        "\n",
        "model = model()\n",
        "\n",
        "# Fit the model with epochs = nobs * 3 and batch size = 32 (rules of thumb)\n",
        "model.fit(X_train_full, y_train_full, epochs = 48, batch_size = 32, verbose = 0)"
      ],
      "metadata": {
        "id": "n4Z2mXAjd4tl",
        "colab": {
          "base_uri": "https://localhost:8080/"
        },
        "outputId": "61aba217-67b0-468d-c72e-9621ca451d36"
      },
      "execution_count": 24,
      "outputs": [
        {
          "output_type": "execute_result",
          "data": {
            "text/plain": [
              "<keras.callbacks.History at 0x7feb0b204b80>"
            ]
          },
          "metadata": {},
          "execution_count": 24
        }
      ]
    },
    {
      "cell_type": "code",
      "source": [
        "# Predict\n",
        "y_pred = model.predict(X_test_full)\n",
        "\n",
        "# One-hot encode the probabilities, so that the output is a 0/1 matrix. The class for an observation will be the index of the columns which has the highest probabilities among other columns\n",
        "y_pred_matrix = pd.DataFrame(np.eye(5)[np.argmax(y_pred, axis = 1)])\n",
        "\n",
        "classification_reporting('Naive', 'NN', y_test_full, y_pred_matrix, X_train_full)"
      ],
      "metadata": {
        "colab": {
          "base_uri": "https://localhost:8080/"
        },
        "id": "rxOxaEywgt_p",
        "outputId": "b0dc2d0b-5017-4cfd-d277-9a18c29d4b67"
      },
      "execution_count": 25,
      "outputs": [
        {
          "output_type": "stream",
          "name": "stdout",
          "text": [
            "63/63 [==============================] - 0s 1ms/step\n",
            "Naive NN performance using 16 features:\n",
            " {'precision': 0.7370162743706152, 'recall': 0.7187045158140631, 'f1-score': 0.7210107864641808, 'support': 2000}\n",
            "Accuracy score: 0.7185\n"
          ]
        }
      ]
    },
    {
      "cell_type": "code",
      "source": [
        "accuracy = accuracy_score(y_test_full, y_pred.round())\n",
        "print('Accuracy of predictions on the test set:', accuracy)"
      ],
      "metadata": {
        "colab": {
          "base_uri": "https://localhost:8080/"
        },
        "id": "qDiaGRWfnzyv",
        "outputId": "38b45ebb-27ba-4003-b0c7-3c9a6f155786"
      },
      "execution_count": 26,
      "outputs": [
        {
          "output_type": "stream",
          "name": "stdout",
          "text": [
            "Accuracy of predictions on the test set: 0.6355\n"
          ]
        }
      ]
    }
  ]
}