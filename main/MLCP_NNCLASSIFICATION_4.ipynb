{
  "nbformat": 4,
  "nbformat_minor": 0,
  "metadata": {
    "colab": {
      "provenance": []
    },
    "kernelspec": {
      "name": "python3",
      "display_name": "Python 3"
    },
    "language_info": {
      "name": "python"
    }
  },
  "cells": [
    {
      "cell_type": "markdown",
      "source": [
        "# Had to develop this blocks in another environment.\n",
        "Please, uncomment the import from other notebook and delete the second block"
      ],
      "metadata": {
        "id": "XX6Rj9Fbca1n"
      }
    },
    {
      "cell_type": "code",
      "execution_count": 95,
      "metadata": {
        "id": "mk0BAsYLa0MA"
      },
      "outputs": [],
      "source": [
        "#from ipynb.fs.defs.MLCP_CLASSIFICATION_3 import train_test, classification_reporting\n",
        "\n",
        "from sklearn.model_selection import RandomizedSearchCV, train_test_split, cross_val_score\n",
        "from sklearn.metrics import classification_report, accuracy_score\n",
        "from sklearn.preprocessing import OneHotEncoder\n",
        "\n",
        "from keras.wrappers.scikit_learn import KerasClassifier\n",
        "from sklearn.model_selection import KFold\n",
        "\n",
        "from keras.models import Sequential\n",
        "from keras.layers import Dense, Dropout\n",
        "import tensorflow as tf\n",
        "\n",
        "import pandas as pd\n",
        "import numpy as np"
      ]
    },
    {
      "cell_type": "code",
      "source": [
        "# Define train/test dataset splitting\n",
        "def train_test(dataset):\n",
        "    X_train, X_test, y_train, y_test = train_test_split(\n",
        "        dataset.iloc[:,:dataset.shape[1]-1],\n",
        "        dataset.iloc[:,-1],\n",
        "        test_size=0.2,\n",
        "        stratify=dataset.iloc[:,-1],\n",
        "        random_state=42)\n",
        "\n",
        "    return X_train, X_test, y_train, y_test\n",
        "\n",
        "# Define the classification report. \"macro avg\" for precision, recall and f1 will be used as a benchmark\n",
        "def classification_reporting(tuning, model, y_test, y_pred, X_train):\n",
        "    report = classification_report(y_test, y_pred, output_dict = True)\n",
        "    print('{} {} performance using {} features:\\n'.format(tuning, model, X_train.shape[1]),\n",
        "          report['macro avg'])\n",
        "    print('Accuracy score:', accuracy_score(y_test, y_pred))"
      ],
      "metadata": {
        "id": "GtJk8H3ccAIw"
      },
      "execution_count": 96,
      "outputs": []
    },
    {
      "cell_type": "code",
      "source": [
        "# Split the dataset with 16 feature\n",
        "dataset = pd.read_csv('/content/drive/MyDrive/dataset.csv').iloc[:,1:]\n",
        "X_train_full, X_test_full, y_train_full, y_test_full = train_test(dataset)\n",
        "\n",
        "y_train_full = pd.get_dummies(y_train_full)\n",
        "y_test_full = pd.get_dummies(y_test_full)"
      ],
      "metadata": {
        "id": "Z4_coKcBffza"
      },
      "execution_count": 97,
      "outputs": []
    },
    {
      "cell_type": "code",
      "source": [
        "# Define the model\n",
        "def model():\n",
        "  model = Sequential()\n",
        "  model.add(Dense(32, input_dim=16, activation='relu'))\n",
        "  model.add(Dropout(0.2))\n",
        "  model.add(Dense(128, activation='relu'))\n",
        "  model.add(Dropout(0.2))\n",
        "  model.add(Dense(64, activation='relu'))\n",
        "  model.add(Dropout(0.2))\n",
        "  model.add(Dense(5, activation='softmax'))\n",
        "\n",
        "  # Compile the model\n",
        "  model.compile(loss='categorical_crossentropy', optimizer='adam', metrics=['accuracy'])\n",
        "\n",
        "  return model\n",
        "\n",
        "model = model()"
      ],
      "metadata": {
        "id": "n4Z2mXAjd4tl"
      },
      "execution_count": 98,
      "outputs": []
    },
    {
      "cell_type": "code",
      "source": [
        "model.fit(X_train_full, y_train_full, epochs = 48, batch_size = 10, verbose = 0)"
      ],
      "metadata": {
        "colab": {
          "base_uri": "https://localhost:8080/"
        },
        "id": "YYOnQToojsDa",
        "outputId": "d8d43b29-dfbd-43e1-cf87-dc6c9c3171d4"
      },
      "execution_count": 99,
      "outputs": [
        {
          "output_type": "execute_result",
          "data": {
            "text/plain": [
              "<keras.callbacks.History at 0x7f4b8c15bd30>"
            ]
          },
          "metadata": {},
          "execution_count": 99
        }
      ]
    },
    {
      "cell_type": "code",
      "source": [
        "y_pred = model.predict(X_test_full)\n",
        "\n",
        "y_pred_matrix = pd.DataFrame(np.eye(5)[np.argmax(y_pred, axis = 1)])\n",
        "\n",
        "classification_reporting('Naive', 'NN', y_test_full, y_pred_matrix, X_train_full)"
      ],
      "metadata": {
        "colab": {
          "base_uri": "https://localhost:8080/"
        },
        "id": "rxOxaEywgt_p",
        "outputId": "e3c9f2ce-255d-4265-cb08-0ce963c28e55"
      },
      "execution_count": 100,
      "outputs": [
        {
          "output_type": "stream",
          "name": "stdout",
          "text": [
            "63/63 [==============================] - 0s 1ms/step\n",
            "Naive NN performance using 16 features:\n",
            " {'precision': 0.5425190631957074, 'recall': 0.5652806966016223, 'f1-score': 0.5280750845517781, 'support': 2000}\n",
            "Accuracy score: 0.5635\n"
          ]
        }
      ]
    }
  ]
}